{
 "cells": [
  {
   "cell_type": "markdown",
   "id": "638b31a0-bdb2-4215-81b0-41fc5a87a34b",
   "metadata": {
    "tags": []
   },
   "source": [
    "### Transform the code you made for calculating the area of a circleinto \n",
    "function that:\n",
    "\n",
    "○ Takes the radius as inputs\n",
    "\n",
    "○ Gives the area as an output\n"
   ]
  },
  {
   "cell_type": "code",
   "execution_count": 1,
   "id": "1cd5082e-f973-435e-b796-f1ef5e0217c5",
   "metadata": {},
   "outputs": [],
   "source": [
    "def circle_area(radius):\n",
    "    radius = float(input('the radius is '))\n",
    "    x = (3.14)\n",
    "    print((radius**2)*x)"
   ]
  },
  {
   "cell_type": "code",
   "execution_count": 2,
   "id": "01993f7b-37c8-42d1-86b3-5e45b0113313",
   "metadata": {},
   "outputs": [
    {
     "name": "stdin",
     "output_type": "stream",
     "text": [
      "the radius is  10\n"
     ]
    },
    {
     "name": "stdout",
     "output_type": "stream",
     "text": [
      "314.0\n"
     ]
    }
   ],
   "source": [
    "circle_area(10)"
   ]
  },
  {
   "cell_type": "markdown",
   "id": "3e81cce6-690c-422d-8c26-9029d4bdd3c7",
   "metadata": {},
   "source": [
    "### write a function to calculate the factorialof \n",
    "\n",
    "a given number and returns the result:"
   ]
  },
  {
   "cell_type": "markdown",
   "id": "40af4086-f755-4537-abf2-b7a21171babb",
   "metadata": {},
   "source": [
    "○ 1! = 1\n",
    "\n",
    "○ 3! = 3*2*1\n",
    "\n",
    "○ 5! = 5*4*3*2*1\n"
   ]
  },
  {
   "cell_type": "code",
   "execution_count": 11,
   "id": "534fb5c7-6731-4df8-b0b3-a62ee8dc0770",
   "metadata": {},
   "outputs": [],
   "source": [
    "def factorial_of():\n",
    "    num = int(input('enter the number '))\n",
    "    if num < 0:\n",
    "        print('it is not valid')\n",
    "    elif num == 0:\n",
    "        print('the factorial of 0 is 1')\n",
    "    else:\n",
    "        factorial = 1\n",
    "        for i in range(1, num+1):\n",
    "            factorial = i * factorial\n",
    "        print('the factorial is', factorial) "
   ]
  },
  {
   "cell_type": "code",
   "execution_count": 13,
   "id": "9351b6bb-654d-4121-9c21-eb0f9b1ff5a5",
   "metadata": {},
   "outputs": [
    {
     "name": "stdin",
     "output_type": "stream",
     "text": [
      "enter the number  10\n"
     ]
    },
    {
     "name": "stdout",
     "output_type": "stream",
     "text": [
      "the factorial is 3628800\n"
     ]
    }
   ],
   "source": [
    "factorial_of()"
   ]
  },
  {
   "cell_type": "code",
   "execution_count": 16,
   "id": "813e955a-5f27-4061-bb95-0d95eea6b18f",
   "metadata": {},
   "outputs": [
    {
     "ename": "SyntaxError",
     "evalue": "invalid syntax (1162362426.py, line 4)",
     "output_type": "error",
     "traceback": [
      "\u001b[1;36m  File \u001b[1;32m\"C:\\Users\\ok\\AppData\\Local\\Temp\\ipykernel_16696\\1162362426.py\"\u001b[1;36m, line \u001b[1;32m4\u001b[0m\n\u001b[1;33m    for i in nums range(1, nums+1):\u001b[0m\n\u001b[1;37m                  ^\u001b[0m\n\u001b[1;31mSyntaxError\u001b[0m\u001b[1;31m:\u001b[0m invalid syntax\n"
     ]
    }
   ],
   "source": [
    "def factorial_of():\n",
    "    nums = [1,3,5]\n",
    "    factorial = 1\n",
    "    for i in nums range(1, nums+1):\n",
    "        factorial = i * factorial\n",
    "        print('the factorial is', factorial) "
   ]
  },
  {
   "cell_type": "code",
   "execution_count": 15,
   "id": "2abf5bc0-142f-4f64-a0d1-4b2d34cf2f53",
   "metadata": {},
   "outputs": [
    {
     "name": "stdout",
     "output_type": "stream",
     "text": [
      "the factorial is 1\n",
      "the factorial is 3\n",
      "the factorial is 15\n"
     ]
    }
   ],
   "source": [
    "factorial_of()"
   ]
  },
  {
   "cell_type": "code",
   "execution_count": null,
   "id": "a56b5b06-1364-4272-b413-f77d1f47962d",
   "metadata": {},
   "outputs": [],
   "source": []
  }
 ],
 "metadata": {
  "kernelspec": {
   "display_name": "Python 3 (ipykernel)",
   "language": "python",
   "name": "python3"
  },
  "language_info": {
   "codemirror_mode": {
    "name": "ipython",
    "version": 3
   },
   "file_extension": ".py",
   "mimetype": "text/x-python",
   "name": "python",
   "nbconvert_exporter": "python",
   "pygments_lexer": "ipython3",
   "version": "3.9.13"
  }
 },
 "nbformat": 4,
 "nbformat_minor": 5
}
