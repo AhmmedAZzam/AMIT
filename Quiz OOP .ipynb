{
 "cells": [
  {
   "cell_type": "markdown",
   "id": "1b7e756f-cdf2-4102-ae1e-fe8b43849c66",
   "metadata": {},
   "source": [
    "# I need a Game for Car \n",
    "\n",
    "when i input start print \"I'm ready to go \"\n",
    "\n",
    "when i input stop print \"Car stop\"\n",
    "\n",
    "when i input Quit stop the game \n",
    "\n",
    "and add help to help him in this choise if he didn't know --> like a massage to till him"
   ]
  },
  {
   "cell_type": "code",
   "execution_count": 1,
   "id": "0a76e5da-c78f-4e88-a395-478c89f4b1bb",
   "metadata": {},
   "outputs": [],
   "source": [
    "import random"
   ]
  },
  {
   "cell_type": "code",
   "execution_count": 2,
   "id": "b02ea414-5c05-4767-bbc2-06131637eecd",
   "metadata": {},
   "outputs": [],
   "source": [
    "class Games:\n",
    "    def __init__(self,name):\n",
    "        self.name = name\n",
    "    \n",
    "    #car game\n",
    "    def game_1(self):\n",
    "        while True:\n",
    "            choises = ['start', 'stop', 'quit']\n",
    "            x = None\n",
    "            while x not in choises :\n",
    "                x = input('you want to (start, stop, quit) : ').lower()\n",
    "                if x == 'start':\n",
    "                    return \"I'm ready to go\"\n",
    "                elif x == 'stop':\n",
    "                    return 'Car stop'\n",
    "                elif x == 'quit':\n",
    "                    print('Good Bye')\n",
    "            break\n",
    "    \n",
    "    #time table\n",
    "    def game_2(self):\n",
    "        x = int(input('enter the number from 1 to 12 : '))\n",
    "        for i in range(1,13):\n",
    "            print('{}*{}={}'.format(x,i,x*i))\n",
    "    \n",
    "    #rock papper scissores\n",
    "    def game_3(self):\n",
    "        while True:\n",
    "            choises = ['rock', 'papper', 'scissores']\n",
    "            computer = random.choice(choises)\n",
    "            user = None\n",
    "            while user not in choises:\n",
    "                user = input('please choose (rock, paper, scissores) : ').lower()\n",
    "                if user == computer :\n",
    "                    print('usre : ',user)\n",
    "                    print('computer : ',computer)\n",
    "                    print('Tie!')\n",
    "                elif user == 'rock':\n",
    "                    if computer == 'papper':\n",
    "                        print('usre : ',user)\n",
    "                        print('computer : ',computer)\n",
    "                        print('You Lose :( ')\n",
    "                    if computer == 'scissores':\n",
    "                        print('usre : ',user)\n",
    "                        print('computer : ',computer)\n",
    "                        print('You Win :) ')\n",
    "                elif user == 'papper':\n",
    "                    if computer == 'rock':\n",
    "                        print('usre : ',user)\n",
    "                        print('computer : ',computer)\n",
    "                        print('You Win :) ')\n",
    "                    if computer == 'scissores':\n",
    "                        print('usre : ',user)\n",
    "                        print('computer : ',computer)\n",
    "                        print('You Lose :( ') \n",
    "                elif user == 'scissores':\n",
    "                    if computer == 'rock':\n",
    "                        print('usre : ',user)\n",
    "                        print('computer : ',computer)\n",
    "                        print('You Lose :( ')\n",
    "                    if computer == 'papper':\n",
    "                        print('usre : ',user)\n",
    "                        print('computer : ',computer)\n",
    "                        print('You Win :) ')\n",
    "            play_again = input('Do you want to play again ?? (yes/no)').lower()\n",
    "            if play_again != 'yes':\n",
    "                break\n",
    "        print('see you the next time :)')"
   ]
  },
  {
   "cell_type": "code",
   "execution_count": 3,
   "id": "46b8c064-524b-45c3-880a-0ac2336326b6",
   "metadata": {},
   "outputs": [],
   "source": [
    "user_1 = Games('Ahmed')"
   ]
  },
  {
   "cell_type": "code",
   "execution_count": 4,
   "id": "f7e99f45-8f6f-4abb-8949-3acc223b16ec",
   "metadata": {},
   "outputs": [
    {
     "name": "stdin",
     "output_type": "stream",
     "text": [
      "you want to (start, stop, quit) :  quit\n"
     ]
    },
    {
     "name": "stdout",
     "output_type": "stream",
     "text": [
      "Good Bye\n"
     ]
    }
   ],
   "source": [
    "user_1.game_1()"
   ]
  },
  {
   "cell_type": "code",
   "execution_count": 5,
   "id": "a793fd2f-7685-4062-9254-8d6388ad70fc",
   "metadata": {},
   "outputs": [
    {
     "name": "stdin",
     "output_type": "stream",
     "text": [
      "enter the number from 1 to 12 :  5\n"
     ]
    },
    {
     "name": "stdout",
     "output_type": "stream",
     "text": [
      "5*1=5\n",
      "5*2=10\n",
      "5*3=15\n",
      "5*4=20\n",
      "5*5=25\n",
      "5*6=30\n",
      "5*7=35\n",
      "5*8=40\n",
      "5*9=45\n",
      "5*10=50\n",
      "5*11=55\n",
      "5*12=60\n"
     ]
    }
   ],
   "source": [
    "user_1.game_2()"
   ]
  },
  {
   "cell_type": "code",
   "execution_count": 6,
   "id": "dab7ad30-aa35-4f03-a753-a78ef2c6ffac",
   "metadata": {},
   "outputs": [
    {
     "name": "stdin",
     "output_type": "stream",
     "text": [
      "please choose (rock, paper, scissores) :  a\n",
      "please choose (rock, paper, scissores) :  rock\n"
     ]
    },
    {
     "name": "stdout",
     "output_type": "stream",
     "text": [
      "usre :  rock\n",
      "computer :  papper\n",
      "You Lose :( \n"
     ]
    },
    {
     "name": "stdin",
     "output_type": "stream",
     "text": [
      "Do you want to play again ?? (yes/no) yes\n",
      "please choose (rock, paper, scissores) :  papper\n"
     ]
    },
    {
     "name": "stdout",
     "output_type": "stream",
     "text": [
      "usre :  papper\n",
      "computer :  scissores\n",
      "You Lose :( \n"
     ]
    },
    {
     "name": "stdin",
     "output_type": "stream",
     "text": [
      "Do you want to play again ?? (yes/no) yes\n",
      "please choose (rock, paper, scissores) :  scissores\n"
     ]
    },
    {
     "name": "stdout",
     "output_type": "stream",
     "text": [
      "usre :  scissores\n",
      "computer :  papper\n",
      "You Win :) \n"
     ]
    },
    {
     "name": "stdin",
     "output_type": "stream",
     "text": [
      "Do you want to play again ?? (yes/no) no\n"
     ]
    },
    {
     "name": "stdout",
     "output_type": "stream",
     "text": [
      "see you the next time :)\n"
     ]
    }
   ],
   "source": [
    "user_1.game_3()"
   ]
  },
  {
   "cell_type": "markdown",
   "id": "66397f40-91a5-4c2b-a612-094a6732e697",
   "metadata": {},
   "source": [
    "# I need math game \n",
    "\n",
    "when i choise any number give my the maltiplcation of it like \n",
    "\n",
    "1*1=1\n",
    "\n",
    "1*2=2\n",
    "\n",
    "1*3=3\n",
    "\n",
    "so on ..."
   ]
  },
  {
   "cell_type": "code",
   "execution_count": 7,
   "id": "a51e81f5-66bb-4bae-a5d7-e240c8ac710c",
   "metadata": {},
   "outputs": [],
   "source": [
    "# To help you i need a clas"
   ]
  }
 ],
 "metadata": {
  "kernelspec": {
   "display_name": "Python 3 (ipykernel)",
   "language": "python",
   "name": "python3"
  },
  "language_info": {
   "codemirror_mode": {
    "name": "ipython",
    "version": 3
   },
   "file_extension": ".py",
   "mimetype": "text/x-python",
   "name": "python",
   "nbconvert_exporter": "python",
   "pygments_lexer": "ipython3",
   "version": "3.9.13"
  }
 },
 "nbformat": 4,
 "nbformat_minor": 5
}
